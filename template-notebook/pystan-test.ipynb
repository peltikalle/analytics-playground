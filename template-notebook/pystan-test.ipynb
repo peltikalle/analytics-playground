{
 "cells": [
  {
   "cell_type": "code",
   "execution_count": 1,
   "metadata": {
    "collapsed": true
   },
   "outputs": [],
   "source": [
    "import pystan"
   ]
  },
  {
   "cell_type": "code",
   "execution_count": 7,
   "metadata": {
    "collapsed": false
   },
   "outputs": [
    {
     "name": "stderr",
     "output_type": "stream",
     "text": [
      "INFO:pystan:COMPILING THE C++ CODE FOR MODEL anon_model_cbe9cd2f1e5ab5d1c7cce1f23ca970b4 NOW.\n"
     ]
    }
   ],
   "source": [
    "schools_code = \"\"\"\n",
    "data {\n",
    "    int<lower=0> J; // number of schools\n",
    "    real y[J]; // estimated treatment effects\n",
    "    real<lower=0> sigma[J]; // s.e. of effect estimates\n",
    "}\n",
    "parameters {\n",
    "    real mu;\n",
    "    real<lower=0> tau;\n",
    "    real eta[J];\n",
    "}\n",
    "transformed parameters {\n",
    "    real theta[J];\n",
    "    for (j in 1:J)\n",
    "    theta[j] = mu + tau * eta[j];\n",
    "}\n",
    "model {\n",
    "    eta ~ normal(0, 1);\n",
    "    y ~ normal(theta, sigma);\n",
    "}\n",
    "\"\"\"\n",
    "\n",
    "schools_dat = {'J': 8,\n",
    "               'y': [28,  8, -3,  7, -1,  1, 18, 12],\n",
    "               'sigma': [15, 10, 16, 11,  9, 11, 10, 18]}\n",
    "\n",
    "fit = pystan.stan(model_code=schools_code, data=schools_dat,\n",
    "                  iter=1000, chains=4)"
   ]
  },
  {
   "cell_type": "code",
   "execution_count": 8,
   "metadata": {
    "collapsed": false
   },
   "outputs": [
    {
     "data": {
      "text/plain": [
       "Inference for Stan model: anon_model_cbe9cd2f1e5ab5d1c7cce1f23ca970b4.\n",
       "4 chains, each with iter=1000; warmup=500; thin=1; \n",
       "post-warmup draws per chain=500, total post-warmup draws=2000.\n",
       "\n",
       "           mean se_mean     sd   2.5%    25%    50%    75%  97.5%  n_eff   Rhat\n",
       "mu          7.8    0.44   5.77  -4.45   4.61   7.83  11.22  18.82    174   1.02\n",
       "tau        6.65    0.37   5.91   0.22   2.46   5.28    9.0  22.14    258   1.01\n",
       "eta[0]     0.37    0.02   0.94  -1.51  -0.25   0.41   0.99   2.19   2000    1.0\n",
       "eta[1]  -9.7e-3    0.02   0.89  -1.83   -0.6-1.8e-3   0.55   1.81   2000    1.0\n",
       "eta[2]    -0.17    0.02   0.99  -2.18   -0.8  -0.14    0.5   1.72   1858    1.0\n",
       "eta[3]    -0.02    0.02   0.92  -1.86   -0.6  -0.03   0.58   1.86   2000    1.0\n",
       "eta[4]    -0.36    0.02   0.88  -2.09  -0.95  -0.38   0.23   1.43   1684   1.01\n",
       "eta[5]    -0.25    0.02   0.91  -2.03  -0.87  -0.24   0.33   1.57   1525    1.0\n",
       "eta[6]     0.33    0.03   0.93  -1.55  -0.28   0.35   0.95   2.14   1304    1.0\n",
       "eta[7]     0.05    0.02   0.92  -1.81  -0.52   0.04   0.66   1.96   2000    1.0\n",
       "theta[0]  11.22    0.27   8.15  -2.73   5.82  10.11  15.47  30.79    901    1.0\n",
       "theta[1]   7.79    0.14   6.24  -4.21   3.79   7.72  11.73  20.62   2000    1.0\n",
       "theta[2]   6.37    0.28   8.45 -12.24    2.0   6.98  11.49  22.21    910    1.0\n",
       "theta[3]   7.71    0.15   6.49  -5.69   3.82    7.7  11.89  20.02   2000    1.0\n",
       "theta[4]   5.13    0.15   6.56  -8.56   1.19    5.4   9.55  17.16   2000    1.0\n",
       "theta[5]   6.02    0.29   7.01 -10.01   2.04   6.36  10.36   19.4    586    1.0\n",
       "theta[6]   10.7     0.2   7.14  -1.85   5.85  10.03  14.72  27.54   1314    1.0\n",
       "theta[7]   8.43    0.21   7.44  -6.41   4.03   8.05  12.97  23.87   1246    1.0\n",
       "lp__      -5.11    0.12    2.8 -11.36   -6.8  -4.82  -3.16  -0.46    502    1.0\n",
       "\n",
       "Samples were drawn using NUTS at Mon Jan  2 14:17:03 2017.\n",
       "For each parameter, n_eff is a crude measure of effective sample size,\n",
       "and Rhat is the potential scale reduction factor on split chains (at \n",
       "convergence, Rhat=1)."
      ]
     },
     "execution_count": 8,
     "metadata": {},
     "output_type": "execute_result"
    }
   ],
   "source": [
    "fit"
   ]
  },
  {
   "cell_type": "code",
   "execution_count": 5,
   "metadata": {
    "collapsed": false
   },
   "outputs": [],
   "source": []
  }
 ],
 "metadata": {
  "kernelspec": {
   "display_name": "Python 3",
   "language": "python",
   "name": "python3"
  },
  "language_info": {
   "codemirror_mode": {
    "name": "ipython",
    "version": 3
   },
   "file_extension": ".py",
   "mimetype": "text/x-python",
   "name": "python",
   "nbconvert_exporter": "python",
   "pygments_lexer": "ipython3",
   "version": "3.5.2"
  }
 },
 "nbformat": 4,
 "nbformat_minor": 2
}
